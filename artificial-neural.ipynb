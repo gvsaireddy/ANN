{
 "cells": [
  {
   "cell_type": "markdown",
   "id": "activated-appointment",
   "metadata": {
    "_cell_guid": "b1076dfc-b9ad-4769-8c92-a6c4dae69d19",
    "_uuid": "8f2839f25d086af736a60e9eeb907d3b93b6e0e5",
    "execution": {
     "iopub.execute_input": "2021-07-04T13:06:07.743787Z",
     "iopub.status.busy": "2021-07-04T13:06:07.743443Z",
     "iopub.status.idle": "2021-07-04T13:06:07.751674Z",
     "shell.execute_reply": "2021-07-04T13:06:07.750809Z",
     "shell.execute_reply.started": "2021-07-04T13:06:07.743759Z"
    },
    "papermill": {
     "duration": 0.023597,
     "end_time": "2021-09-14T10:08:11.981529",
     "exception": false,
     "start_time": "2021-09-14T10:08:11.957932",
     "status": "completed"
    },
    "tags": []
   },
   "source": [
    "# Bank Customers Churn \n",
    "\n"
   ]
  },
  {
   "cell_type": "markdown",
   "id": "thorough-rider",
   "metadata": {
    "papermill": {
     "duration": 0.02218,
     "end_time": "2021-09-14T10:08:12.026853",
     "exception": false,
     "start_time": "2021-09-14T10:08:12.004673",
     "status": "completed"
    },
    "tags": []
   },
   "source": [
    "![](https://image.slidesharecdn.com/2017olofcustomerchurn-180312012319/95/customer-churn-prediction-in-banking-1-638.jpg?cb=1520817951)"
   ]
  },
  {
   "cell_type": "markdown",
   "id": "changed-blake",
   "metadata": {
    "papermill": {
     "duration": 0.022258,
     "end_time": "2021-09-14T10:08:12.071714",
     "exception": false,
     "start_time": "2021-09-14T10:08:12.049456",
     "status": "completed"
    },
    "tags": []
   },
   "source": [
    "# Part 1 - Data Preprocessing"
   ]
  },
  {
   "cell_type": "markdown",
   "id": "inappropriate-robin",
   "metadata": {
    "papermill": {
     "duration": 0.022217,
     "end_time": "2021-09-14T10:08:12.116430",
     "exception": false,
     "start_time": "2021-09-14T10:08:12.094213",
     "status": "completed"
    },
    "tags": []
   },
   "source": [
    "# Importing The Libraries"
   ]
  },
  {
   "cell_type": "code",
   "execution_count": 1,
   "id": "organizational-training",
   "metadata": {
    "execution": {
     "iopub.execute_input": "2021-09-14T10:08:12.174713Z",
     "iopub.status.busy": "2021-09-14T10:08:12.170333Z",
     "iopub.status.idle": "2021-09-14T10:08:13.042911Z",
     "shell.execute_reply": "2021-09-14T10:08:13.043430Z",
     "shell.execute_reply.started": "2021-09-14T10:04:47.099732Z"
    },
    "papermill": {
     "duration": 0.904931,
     "end_time": "2021-09-14T10:08:13.043767",
     "exception": false,
     "start_time": "2021-09-14T10:08:12.138836",
     "status": "completed"
    },
    "tags": []
   },
   "outputs": [],
   "source": [
    "import numpy as np\n",
    "import pandas as pd\n",
    "import matplotlib.pyplot as plt\n",
    "import seaborn as sns"
   ]
  },
  {
   "cell_type": "markdown",
   "id": "lyric-behalf",
   "metadata": {
    "papermill": {
     "duration": 0.022417,
     "end_time": "2021-09-14T10:08:13.089404",
     "exception": false,
     "start_time": "2021-09-14T10:08:13.066987",
     "status": "completed"
    },
    "tags": []
   },
   "source": [
    "# Importing The Dataset"
   ]
  },
  {
   "cell_type": "code",
   "execution_count": 2,
   "id": "processed-vulnerability",
   "metadata": {
    "execution": {
     "iopub.execute_input": "2021-09-14T10:08:13.143081Z",
     "iopub.status.busy": "2021-09-14T10:08:13.142323Z",
     "iopub.status.idle": "2021-09-14T10:08:13.219632Z",
     "shell.execute_reply": "2021-09-14T10:08:13.220123Z",
     "shell.execute_reply.started": "2021-09-14T10:04:52.329942Z"
    },
    "papermill": {
     "duration": 0.107152,
     "end_time": "2021-09-14T10:08:13.220288",
     "exception": false,
     "start_time": "2021-09-14T10:08:13.113136",
     "status": "completed"
    },
    "tags": []
   },
   "outputs": [
    {
     "data": {
      "text/html": [
       "<div>\n",
       "<style scoped>\n",
       "    .dataframe tbody tr th:only-of-type {\n",
       "        vertical-align: middle;\n",
       "    }\n",
       "\n",
       "    .dataframe tbody tr th {\n",
       "        vertical-align: top;\n",
       "    }\n",
       "\n",
       "    .dataframe thead th {\n",
       "        text-align: right;\n",
       "    }\n",
       "</style>\n",
       "<table border=\"1\" class=\"dataframe\">\n",
       "  <thead>\n",
       "    <tr style=\"text-align: right;\">\n",
       "      <th></th>\n",
       "      <th>RowNumber</th>\n",
       "      <th>CustomerId</th>\n",
       "      <th>Surname</th>\n",
       "      <th>CreditScore</th>\n",
       "      <th>Geography</th>\n",
       "      <th>Gender</th>\n",
       "      <th>Age</th>\n",
       "      <th>Tenure</th>\n",
       "      <th>Balance</th>\n",
       "      <th>NumOfProducts</th>\n",
       "      <th>HasCrCard</th>\n",
       "      <th>IsActiveMember</th>\n",
       "      <th>EstimatedSalary</th>\n",
       "      <th>Exited</th>\n",
       "    </tr>\n",
       "  </thead>\n",
       "  <tbody>\n",
       "    <tr>\n",
       "      <th>0</th>\n",
       "      <td>1</td>\n",
       "      <td>15634602</td>\n",
       "      <td>Hargrave</td>\n",
       "      <td>619</td>\n",
       "      <td>France</td>\n",
       "      <td>Female</td>\n",
       "      <td>42</td>\n",
       "      <td>2</td>\n",
       "      <td>0.00</td>\n",
       "      <td>1</td>\n",
       "      <td>1</td>\n",
       "      <td>1</td>\n",
       "      <td>101348.88</td>\n",
       "      <td>1</td>\n",
       "    </tr>\n",
       "    <tr>\n",
       "      <th>1</th>\n",
       "      <td>2</td>\n",
       "      <td>15647311</td>\n",
       "      <td>Hill</td>\n",
       "      <td>608</td>\n",
       "      <td>Spain</td>\n",
       "      <td>Female</td>\n",
       "      <td>41</td>\n",
       "      <td>1</td>\n",
       "      <td>83807.86</td>\n",
       "      <td>1</td>\n",
       "      <td>0</td>\n",
       "      <td>1</td>\n",
       "      <td>112542.58</td>\n",
       "      <td>0</td>\n",
       "    </tr>\n",
       "    <tr>\n",
       "      <th>2</th>\n",
       "      <td>3</td>\n",
       "      <td>15619304</td>\n",
       "      <td>Onio</td>\n",
       "      <td>502</td>\n",
       "      <td>France</td>\n",
       "      <td>Female</td>\n",
       "      <td>42</td>\n",
       "      <td>8</td>\n",
       "      <td>159660.80</td>\n",
       "      <td>3</td>\n",
       "      <td>1</td>\n",
       "      <td>0</td>\n",
       "      <td>113931.57</td>\n",
       "      <td>1</td>\n",
       "    </tr>\n",
       "    <tr>\n",
       "      <th>3</th>\n",
       "      <td>4</td>\n",
       "      <td>15701354</td>\n",
       "      <td>Boni</td>\n",
       "      <td>699</td>\n",
       "      <td>France</td>\n",
       "      <td>Female</td>\n",
       "      <td>39</td>\n",
       "      <td>1</td>\n",
       "      <td>0.00</td>\n",
       "      <td>2</td>\n",
       "      <td>0</td>\n",
       "      <td>0</td>\n",
       "      <td>93826.63</td>\n",
       "      <td>0</td>\n",
       "    </tr>\n",
       "    <tr>\n",
       "      <th>4</th>\n",
       "      <td>5</td>\n",
       "      <td>15737888</td>\n",
       "      <td>Mitchell</td>\n",
       "      <td>850</td>\n",
       "      <td>Spain</td>\n",
       "      <td>Female</td>\n",
       "      <td>43</td>\n",
       "      <td>2</td>\n",
       "      <td>125510.82</td>\n",
       "      <td>1</td>\n",
       "      <td>1</td>\n",
       "      <td>1</td>\n",
       "      <td>79084.10</td>\n",
       "      <td>0</td>\n",
       "    </tr>\n",
       "  </tbody>\n",
       "</table>\n",
       "</div>"
      ],
      "text/plain": [
       "   RowNumber  CustomerId   Surname  CreditScore Geography  Gender  Age  \\\n",
       "0          1    15634602  Hargrave          619    France  Female   42   \n",
       "1          2    15647311      Hill          608     Spain  Female   41   \n",
       "2          3    15619304      Onio          502    France  Female   42   \n",
       "3          4    15701354      Boni          699    France  Female   39   \n",
       "4          5    15737888  Mitchell          850     Spain  Female   43   \n",
       "\n",
       "   Tenure    Balance  NumOfProducts  HasCrCard  IsActiveMember  \\\n",
       "0       2       0.00              1          1               1   \n",
       "1       1   83807.86              1          0               1   \n",
       "2       8  159660.80              3          1               0   \n",
       "3       1       0.00              2          0               0   \n",
       "4       2  125510.82              1          1               1   \n",
       "\n",
       "   EstimatedSalary  Exited  \n",
       "0        101348.88       1  \n",
       "1        112542.58       0  \n",
       "2        113931.57       1  \n",
       "3         93826.63       0  \n",
       "4         79084.10       0  "
      ]
     },
     "execution_count": 2,
     "metadata": {},
     "output_type": "execute_result"
    }
   ],
   "source": [
    "dataset = pd.read_csv('/kaggle/input/bank-customers/Churn Modeling.csv')\n",
    "X = dataset.iloc[:, 3:13].values\n",
    "y = dataset.iloc[:, 13].values\n",
    "dataset.head()  # It will display first 5 rows of dataset"
   ]
  },
  {
   "cell_type": "code",
   "execution_count": 3,
   "id": "starting-choice",
   "metadata": {
    "execution": {
     "iopub.execute_input": "2021-09-14T10:08:13.270954Z",
     "iopub.status.busy": "2021-09-14T10:08:13.270310Z",
     "iopub.status.idle": "2021-09-14T10:08:13.326211Z",
     "shell.execute_reply": "2021-09-14T10:08:13.326683Z",
     "shell.execute_reply.started": "2021-09-14T10:04:55.320508Z"
    },
    "papermill": {
     "duration": 0.082868,
     "end_time": "2021-09-14T10:08:13.326859",
     "exception": false,
     "start_time": "2021-09-14T10:08:13.243991",
     "status": "completed"
    },
    "tags": []
   },
   "outputs": [
    {
     "data": {
      "text/html": [
       "<div>\n",
       "<style scoped>\n",
       "    .dataframe tbody tr th:only-of-type {\n",
       "        vertical-align: middle;\n",
       "    }\n",
       "\n",
       "    .dataframe tbody tr th {\n",
       "        vertical-align: top;\n",
       "    }\n",
       "\n",
       "    .dataframe thead th {\n",
       "        text-align: right;\n",
       "    }\n",
       "</style>\n",
       "<table border=\"1\" class=\"dataframe\">\n",
       "  <thead>\n",
       "    <tr style=\"text-align: right;\">\n",
       "      <th></th>\n",
       "      <th>RowNumber</th>\n",
       "      <th>CustomerId</th>\n",
       "      <th>CreditScore</th>\n",
       "      <th>Age</th>\n",
       "      <th>Tenure</th>\n",
       "      <th>Balance</th>\n",
       "      <th>NumOfProducts</th>\n",
       "      <th>HasCrCard</th>\n",
       "      <th>IsActiveMember</th>\n",
       "      <th>EstimatedSalary</th>\n",
       "      <th>Exited</th>\n",
       "    </tr>\n",
       "  </thead>\n",
       "  <tbody>\n",
       "    <tr>\n",
       "      <th>count</th>\n",
       "      <td>10000.00000</td>\n",
       "      <td>1.000000e+04</td>\n",
       "      <td>10000.000000</td>\n",
       "      <td>10000.000000</td>\n",
       "      <td>10000.000000</td>\n",
       "      <td>10000.000000</td>\n",
       "      <td>10000.000000</td>\n",
       "      <td>10000.00000</td>\n",
       "      <td>10000.000000</td>\n",
       "      <td>10000.000000</td>\n",
       "      <td>10000.000000</td>\n",
       "    </tr>\n",
       "    <tr>\n",
       "      <th>mean</th>\n",
       "      <td>5000.50000</td>\n",
       "      <td>1.569094e+07</td>\n",
       "      <td>650.528800</td>\n",
       "      <td>38.921800</td>\n",
       "      <td>5.012800</td>\n",
       "      <td>76485.889288</td>\n",
       "      <td>1.530200</td>\n",
       "      <td>0.70550</td>\n",
       "      <td>0.515100</td>\n",
       "      <td>100090.239881</td>\n",
       "      <td>0.203700</td>\n",
       "    </tr>\n",
       "    <tr>\n",
       "      <th>std</th>\n",
       "      <td>2886.89568</td>\n",
       "      <td>7.193619e+04</td>\n",
       "      <td>96.653299</td>\n",
       "      <td>10.487806</td>\n",
       "      <td>2.892174</td>\n",
       "      <td>62397.405202</td>\n",
       "      <td>0.581654</td>\n",
       "      <td>0.45584</td>\n",
       "      <td>0.499797</td>\n",
       "      <td>57510.492818</td>\n",
       "      <td>0.402769</td>\n",
       "    </tr>\n",
       "    <tr>\n",
       "      <th>min</th>\n",
       "      <td>1.00000</td>\n",
       "      <td>1.556570e+07</td>\n",
       "      <td>350.000000</td>\n",
       "      <td>18.000000</td>\n",
       "      <td>0.000000</td>\n",
       "      <td>0.000000</td>\n",
       "      <td>1.000000</td>\n",
       "      <td>0.00000</td>\n",
       "      <td>0.000000</td>\n",
       "      <td>11.580000</td>\n",
       "      <td>0.000000</td>\n",
       "    </tr>\n",
       "    <tr>\n",
       "      <th>25%</th>\n",
       "      <td>2500.75000</td>\n",
       "      <td>1.562853e+07</td>\n",
       "      <td>584.000000</td>\n",
       "      <td>32.000000</td>\n",
       "      <td>3.000000</td>\n",
       "      <td>0.000000</td>\n",
       "      <td>1.000000</td>\n",
       "      <td>0.00000</td>\n",
       "      <td>0.000000</td>\n",
       "      <td>51002.110000</td>\n",
       "      <td>0.000000</td>\n",
       "    </tr>\n",
       "    <tr>\n",
       "      <th>50%</th>\n",
       "      <td>5000.50000</td>\n",
       "      <td>1.569074e+07</td>\n",
       "      <td>652.000000</td>\n",
       "      <td>37.000000</td>\n",
       "      <td>5.000000</td>\n",
       "      <td>97198.540000</td>\n",
       "      <td>1.000000</td>\n",
       "      <td>1.00000</td>\n",
       "      <td>1.000000</td>\n",
       "      <td>100193.915000</td>\n",
       "      <td>0.000000</td>\n",
       "    </tr>\n",
       "    <tr>\n",
       "      <th>75%</th>\n",
       "      <td>7500.25000</td>\n",
       "      <td>1.575323e+07</td>\n",
       "      <td>718.000000</td>\n",
       "      <td>44.000000</td>\n",
       "      <td>7.000000</td>\n",
       "      <td>127644.240000</td>\n",
       "      <td>2.000000</td>\n",
       "      <td>1.00000</td>\n",
       "      <td>1.000000</td>\n",
       "      <td>149388.247500</td>\n",
       "      <td>0.000000</td>\n",
       "    </tr>\n",
       "    <tr>\n",
       "      <th>max</th>\n",
       "      <td>10000.00000</td>\n",
       "      <td>1.581569e+07</td>\n",
       "      <td>850.000000</td>\n",
       "      <td>92.000000</td>\n",
       "      <td>10.000000</td>\n",
       "      <td>250898.090000</td>\n",
       "      <td>4.000000</td>\n",
       "      <td>1.00000</td>\n",
       "      <td>1.000000</td>\n",
       "      <td>199992.480000</td>\n",
       "      <td>1.000000</td>\n",
       "    </tr>\n",
       "  </tbody>\n",
       "</table>\n",
       "</div>"
      ],
      "text/plain": [
       "         RowNumber    CustomerId   CreditScore           Age        Tenure  \\\n",
       "count  10000.00000  1.000000e+04  10000.000000  10000.000000  10000.000000   \n",
       "mean    5000.50000  1.569094e+07    650.528800     38.921800      5.012800   \n",
       "std     2886.89568  7.193619e+04     96.653299     10.487806      2.892174   \n",
       "min        1.00000  1.556570e+07    350.000000     18.000000      0.000000   \n",
       "25%     2500.75000  1.562853e+07    584.000000     32.000000      3.000000   \n",
       "50%     5000.50000  1.569074e+07    652.000000     37.000000      5.000000   \n",
       "75%     7500.25000  1.575323e+07    718.000000     44.000000      7.000000   \n",
       "max    10000.00000  1.581569e+07    850.000000     92.000000     10.000000   \n",
       "\n",
       "             Balance  NumOfProducts    HasCrCard  IsActiveMember  \\\n",
       "count   10000.000000   10000.000000  10000.00000    10000.000000   \n",
       "mean    76485.889288       1.530200      0.70550        0.515100   \n",
       "std     62397.405202       0.581654      0.45584        0.499797   \n",
       "min         0.000000       1.000000      0.00000        0.000000   \n",
       "25%         0.000000       1.000000      0.00000        0.000000   \n",
       "50%     97198.540000       1.000000      1.00000        1.000000   \n",
       "75%    127644.240000       2.000000      1.00000        1.000000   \n",
       "max    250898.090000       4.000000      1.00000        1.000000   \n",
       "\n",
       "       EstimatedSalary        Exited  \n",
       "count     10000.000000  10000.000000  \n",
       "mean     100090.239881      0.203700  \n",
       "std       57510.492818      0.402769  \n",
       "min          11.580000      0.000000  \n",
       "25%       51002.110000      0.000000  \n",
       "50%      100193.915000      0.000000  \n",
       "75%      149388.247500      0.000000  \n",
       "max      199992.480000      1.000000  "
      ]
     },
     "execution_count": 3,
     "metadata": {},
     "output_type": "execute_result"
    }
   ],
   "source": [
    "dataset.describe()"
   ]
  },
  {
   "cell_type": "code",
   "execution_count": 4,
   "id": "sealed-bankruptcy",
   "metadata": {
    "execution": {
     "iopub.execute_input": "2021-09-14T10:08:13.378075Z",
     "iopub.status.busy": "2021-09-14T10:08:13.377422Z",
     "iopub.status.idle": "2021-09-14T10:08:13.397662Z",
     "shell.execute_reply": "2021-09-14T10:08:13.398158Z",
     "shell.execute_reply.started": "2021-09-14T10:04:58.849605Z"
    },
    "papermill": {
     "duration": 0.047503,
     "end_time": "2021-09-14T10:08:13.398332",
     "exception": false,
     "start_time": "2021-09-14T10:08:13.350829",
     "status": "completed"
    },
    "tags": []
   },
   "outputs": [
    {
     "name": "stdout",
     "output_type": "stream",
     "text": [
      "<class 'pandas.core.frame.DataFrame'>\n",
      "RangeIndex: 10000 entries, 0 to 9999\n",
      "Data columns (total 14 columns):\n",
      " #   Column           Non-Null Count  Dtype  \n",
      "---  ------           --------------  -----  \n",
      " 0   RowNumber        10000 non-null  int64  \n",
      " 1   CustomerId       10000 non-null  int64  \n",
      " 2   Surname          10000 non-null  object \n",
      " 3   CreditScore      10000 non-null  int64  \n",
      " 4   Geography        10000 non-null  object \n",
      " 5   Gender           10000 non-null  object \n",
      " 6   Age              10000 non-null  int64  \n",
      " 7   Tenure           10000 non-null  int64  \n",
      " 8   Balance          10000 non-null  float64\n",
      " 9   NumOfProducts    10000 non-null  int64  \n",
      " 10  HasCrCard        10000 non-null  int64  \n",
      " 11  IsActiveMember   10000 non-null  int64  \n",
      " 12  EstimatedSalary  10000 non-null  float64\n",
      " 13  Exited           10000 non-null  int64  \n",
      "dtypes: float64(2), int64(9), object(3)\n",
      "memory usage: 1.1+ MB\n"
     ]
    }
   ],
   "source": [
    "dataset.info()"
   ]
  },
  {
   "cell_type": "markdown",
   "id": "numerous-aquatic",
   "metadata": {
    "papermill": {
     "duration": 0.028706,
     "end_time": "2021-09-14T10:08:13.451347",
     "exception": false,
     "start_time": "2021-09-14T10:08:13.422641",
     "status": "completed"
    },
    "tags": []
   },
   "source": [
    "**So our dataset contains different data types like int , object ,float.** "
   ]
  },
  {
   "cell_type": "markdown",
   "id": "pregnant-actress",
   "metadata": {
    "papermill": {
     "duration": 0.032943,
     "end_time": "2021-09-14T10:08:13.510137",
     "exception": false,
     "start_time": "2021-09-14T10:08:13.477194",
     "status": "completed"
    },
    "tags": []
   },
   "source": [
    "**Checking Null Values**"
   ]
  },
  {
   "cell_type": "code",
   "execution_count": 5,
   "id": "handled-surname",
   "metadata": {
    "execution": {
     "iopub.execute_input": "2021-09-14T10:08:13.568635Z",
     "iopub.status.busy": "2021-09-14T10:08:13.567970Z",
     "iopub.status.idle": "2021-09-14T10:08:13.579562Z",
     "shell.execute_reply": "2021-09-14T10:08:13.578908Z",
     "shell.execute_reply.started": "2021-09-14T10:05:02.560202Z"
    },
    "papermill": {
     "duration": 0.038609,
     "end_time": "2021-09-14T10:08:13.579703",
     "exception": false,
     "start_time": "2021-09-14T10:08:13.541094",
     "status": "completed"
    },
    "tags": []
   },
   "outputs": [
    {
     "data": {
      "text/plain": [
       "RowNumber          False\n",
       "CustomerId         False\n",
       "Surname            False\n",
       "CreditScore        False\n",
       "Geography          False\n",
       "Gender             False\n",
       "Age                False\n",
       "Tenure             False\n",
       "Balance            False\n",
       "NumOfProducts      False\n",
       "HasCrCard          False\n",
       "IsActiveMember     False\n",
       "EstimatedSalary    False\n",
       "Exited             False\n",
       "dtype: bool"
      ]
     },
     "execution_count": 5,
     "metadata": {},
     "output_type": "execute_result"
    }
   ],
   "source": [
    "dataset.isnull().any()"
   ]
  },
  {
   "cell_type": "code",
   "execution_count": 6,
   "id": "expensive-project",
   "metadata": {
    "execution": {
     "iopub.execute_input": "2021-09-14T10:08:13.632688Z",
     "iopub.status.busy": "2021-09-14T10:08:13.632026Z",
     "iopub.status.idle": "2021-09-14T10:08:13.637133Z",
     "shell.execute_reply": "2021-09-14T10:08:13.637629Z",
     "shell.execute_reply.started": "2021-09-14T10:05:10.051881Z"
    },
    "papermill": {
     "duration": 0.033017,
     "end_time": "2021-09-14T10:08:13.637791",
     "exception": false,
     "start_time": "2021-09-14T10:08:13.604774",
     "status": "completed"
    },
    "tags": []
   },
   "outputs": [
    {
     "name": "stdout",
     "output_type": "stream",
     "text": [
      "(10000, 14)\n",
      "(10000, 10)\n",
      "(10000,)\n"
     ]
    }
   ],
   "source": [
    "print(dataset.shape)\n",
    "print(X.shape)\n",
    "print(y.shape)"
   ]
  },
  {
   "cell_type": "code",
   "execution_count": 7,
   "id": "similar-transmission",
   "metadata": {
    "execution": {
     "iopub.execute_input": "2021-09-14T10:08:13.708004Z",
     "iopub.status.busy": "2021-09-14T10:08:13.704066Z",
     "iopub.status.idle": "2021-09-14T10:08:13.720664Z",
     "shell.execute_reply": "2021-09-14T10:08:13.721226Z",
     "shell.execute_reply.started": "2021-09-14T10:05:14.357483Z"
    },
    "papermill": {
     "duration": 0.058742,
     "end_time": "2021-09-14T10:08:13.721406",
     "exception": false,
     "start_time": "2021-09-14T10:08:13.662664",
     "status": "completed"
    },
    "tags": []
   },
   "outputs": [
    {
     "data": {
      "text/html": [
       "<div>\n",
       "<style scoped>\n",
       "    .dataframe tbody tr th:only-of-type {\n",
       "        vertical-align: middle;\n",
       "    }\n",
       "\n",
       "    .dataframe tbody tr th {\n",
       "        vertical-align: top;\n",
       "    }\n",
       "\n",
       "    .dataframe thead th {\n",
       "        text-align: right;\n",
       "    }\n",
       "</style>\n",
       "<table border=\"1\" class=\"dataframe\">\n",
       "  <thead>\n",
       "    <tr style=\"text-align: right;\">\n",
       "      <th></th>\n",
       "      <th>RowNumber</th>\n",
       "      <th>CustomerId</th>\n",
       "      <th>Surname</th>\n",
       "      <th>CreditScore</th>\n",
       "      <th>Geography</th>\n",
       "      <th>Gender</th>\n",
       "      <th>Age</th>\n",
       "      <th>Tenure</th>\n",
       "      <th>Balance</th>\n",
       "      <th>NumOfProducts</th>\n",
       "      <th>HasCrCard</th>\n",
       "      <th>IsActiveMember</th>\n",
       "      <th>EstimatedSalary</th>\n",
       "      <th>Exited</th>\n",
       "    </tr>\n",
       "  </thead>\n",
       "  <tbody>\n",
       "    <tr>\n",
       "      <th>0</th>\n",
       "      <td>1</td>\n",
       "      <td>15634602</td>\n",
       "      <td>Hargrave</td>\n",
       "      <td>619</td>\n",
       "      <td>France</td>\n",
       "      <td>Female</td>\n",
       "      <td>42</td>\n",
       "      <td>2</td>\n",
       "      <td>0.00</td>\n",
       "      <td>1</td>\n",
       "      <td>1</td>\n",
       "      <td>1</td>\n",
       "      <td>101348.88</td>\n",
       "      <td>1</td>\n",
       "    </tr>\n",
       "    <tr>\n",
       "      <th>1</th>\n",
       "      <td>2</td>\n",
       "      <td>15647311</td>\n",
       "      <td>Hill</td>\n",
       "      <td>608</td>\n",
       "      <td>Spain</td>\n",
       "      <td>Female</td>\n",
       "      <td>41</td>\n",
       "      <td>1</td>\n",
       "      <td>83807.86</td>\n",
       "      <td>1</td>\n",
       "      <td>0</td>\n",
       "      <td>1</td>\n",
       "      <td>112542.58</td>\n",
       "      <td>0</td>\n",
       "    </tr>\n",
       "    <tr>\n",
       "      <th>2</th>\n",
       "      <td>3</td>\n",
       "      <td>15619304</td>\n",
       "      <td>Onio</td>\n",
       "      <td>502</td>\n",
       "      <td>France</td>\n",
       "      <td>Female</td>\n",
       "      <td>42</td>\n",
       "      <td>8</td>\n",
       "      <td>159660.80</td>\n",
       "      <td>3</td>\n",
       "      <td>1</td>\n",
       "      <td>0</td>\n",
       "      <td>113931.57</td>\n",
       "      <td>1</td>\n",
       "    </tr>\n",
       "    <tr>\n",
       "      <th>3</th>\n",
       "      <td>4</td>\n",
       "      <td>15701354</td>\n",
       "      <td>Boni</td>\n",
       "      <td>699</td>\n",
       "      <td>France</td>\n",
       "      <td>Female</td>\n",
       "      <td>39</td>\n",
       "      <td>1</td>\n",
       "      <td>0.00</td>\n",
       "      <td>2</td>\n",
       "      <td>0</td>\n",
       "      <td>0</td>\n",
       "      <td>93826.63</td>\n",
       "      <td>0</td>\n",
       "    </tr>\n",
       "    <tr>\n",
       "      <th>4</th>\n",
       "      <td>5</td>\n",
       "      <td>15737888</td>\n",
       "      <td>Mitchell</td>\n",
       "      <td>850</td>\n",
       "      <td>Spain</td>\n",
       "      <td>Female</td>\n",
       "      <td>43</td>\n",
       "      <td>2</td>\n",
       "      <td>125510.82</td>\n",
       "      <td>1</td>\n",
       "      <td>1</td>\n",
       "      <td>1</td>\n",
       "      <td>79084.10</td>\n",
       "      <td>0</td>\n",
       "    </tr>\n",
       "    <tr>\n",
       "      <th>...</th>\n",
       "      <td>...</td>\n",
       "      <td>...</td>\n",
       "      <td>...</td>\n",
       "      <td>...</td>\n",
       "      <td>...</td>\n",
       "      <td>...</td>\n",
       "      <td>...</td>\n",
       "      <td>...</td>\n",
       "      <td>...</td>\n",
       "      <td>...</td>\n",
       "      <td>...</td>\n",
       "      <td>...</td>\n",
       "      <td>...</td>\n",
       "      <td>...</td>\n",
       "    </tr>\n",
       "    <tr>\n",
       "      <th>9995</th>\n",
       "      <td>9996</td>\n",
       "      <td>15606229</td>\n",
       "      <td>Obijiaku</td>\n",
       "      <td>771</td>\n",
       "      <td>France</td>\n",
       "      <td>Male</td>\n",
       "      <td>39</td>\n",
       "      <td>5</td>\n",
       "      <td>0.00</td>\n",
       "      <td>2</td>\n",
       "      <td>1</td>\n",
       "      <td>0</td>\n",
       "      <td>96270.64</td>\n",
       "      <td>0</td>\n",
       "    </tr>\n",
       "    <tr>\n",
       "      <th>9996</th>\n",
       "      <td>9997</td>\n",
       "      <td>15569892</td>\n",
       "      <td>Johnstone</td>\n",
       "      <td>516</td>\n",
       "      <td>France</td>\n",
       "      <td>Male</td>\n",
       "      <td>35</td>\n",
       "      <td>10</td>\n",
       "      <td>57369.61</td>\n",
       "      <td>1</td>\n",
       "      <td>1</td>\n",
       "      <td>1</td>\n",
       "      <td>101699.77</td>\n",
       "      <td>0</td>\n",
       "    </tr>\n",
       "    <tr>\n",
       "      <th>9997</th>\n",
       "      <td>9998</td>\n",
       "      <td>15584532</td>\n",
       "      <td>Liu</td>\n",
       "      <td>709</td>\n",
       "      <td>France</td>\n",
       "      <td>Female</td>\n",
       "      <td>36</td>\n",
       "      <td>7</td>\n",
       "      <td>0.00</td>\n",
       "      <td>1</td>\n",
       "      <td>0</td>\n",
       "      <td>1</td>\n",
       "      <td>42085.58</td>\n",
       "      <td>1</td>\n",
       "    </tr>\n",
       "    <tr>\n",
       "      <th>9998</th>\n",
       "      <td>9999</td>\n",
       "      <td>15682355</td>\n",
       "      <td>Sabbatini</td>\n",
       "      <td>772</td>\n",
       "      <td>Germany</td>\n",
       "      <td>Male</td>\n",
       "      <td>42</td>\n",
       "      <td>3</td>\n",
       "      <td>75075.31</td>\n",
       "      <td>2</td>\n",
       "      <td>1</td>\n",
       "      <td>0</td>\n",
       "      <td>92888.52</td>\n",
       "      <td>1</td>\n",
       "    </tr>\n",
       "    <tr>\n",
       "      <th>9999</th>\n",
       "      <td>10000</td>\n",
       "      <td>15628319</td>\n",
       "      <td>Walker</td>\n",
       "      <td>792</td>\n",
       "      <td>France</td>\n",
       "      <td>Female</td>\n",
       "      <td>28</td>\n",
       "      <td>4</td>\n",
       "      <td>130142.79</td>\n",
       "      <td>1</td>\n",
       "      <td>1</td>\n",
       "      <td>0</td>\n",
       "      <td>38190.78</td>\n",
       "      <td>0</td>\n",
       "    </tr>\n",
       "  </tbody>\n",
       "</table>\n",
       "<p>10000 rows × 14 columns</p>\n",
       "</div>"
      ],
      "text/plain": [
       "      RowNumber  CustomerId    Surname  CreditScore Geography  Gender  Age  \\\n",
       "0             1    15634602   Hargrave          619    France  Female   42   \n",
       "1             2    15647311       Hill          608     Spain  Female   41   \n",
       "2             3    15619304       Onio          502    France  Female   42   \n",
       "3             4    15701354       Boni          699    France  Female   39   \n",
       "4             5    15737888   Mitchell          850     Spain  Female   43   \n",
       "...         ...         ...        ...          ...       ...     ...  ...   \n",
       "9995       9996    15606229   Obijiaku          771    France    Male   39   \n",
       "9996       9997    15569892  Johnstone          516    France    Male   35   \n",
       "9997       9998    15584532        Liu          709    France  Female   36   \n",
       "9998       9999    15682355  Sabbatini          772   Germany    Male   42   \n",
       "9999      10000    15628319     Walker          792    France  Female   28   \n",
       "\n",
       "      Tenure    Balance  NumOfProducts  HasCrCard  IsActiveMember  \\\n",
       "0          2       0.00              1          1               1   \n",
       "1          1   83807.86              1          0               1   \n",
       "2          8  159660.80              3          1               0   \n",
       "3          1       0.00              2          0               0   \n",
       "4          2  125510.82              1          1               1   \n",
       "...      ...        ...            ...        ...             ...   \n",
       "9995       5       0.00              2          1               0   \n",
       "9996      10   57369.61              1          1               1   \n",
       "9997       7       0.00              1          0               1   \n",
       "9998       3   75075.31              2          1               0   \n",
       "9999       4  130142.79              1          1               0   \n",
       "\n",
       "      EstimatedSalary  Exited  \n",
       "0           101348.88       1  \n",
       "1           112542.58       0  \n",
       "2           113931.57       1  \n",
       "3            93826.63       0  \n",
       "4            79084.10       0  \n",
       "...               ...     ...  \n",
       "9995         96270.64       0  \n",
       "9996        101699.77       0  \n",
       "9997         42085.58       1  \n",
       "9998         92888.52       1  \n",
       "9999         38190.78       0  \n",
       "\n",
       "[10000 rows x 14 columns]"
      ]
     },
     "execution_count": 7,
     "metadata": {},
     "output_type": "execute_result"
    }
   ],
   "source": [
    "dataset"
   ]
  },
  {
   "cell_type": "markdown",
   "id": "second-discrimination",
   "metadata": {
    "papermill": {
     "duration": 0.028542,
     "end_time": "2021-09-14T10:08:13.778179",
     "exception": false,
     "start_time": "2021-09-14T10:08:13.749637",
     "status": "completed"
    },
    "tags": []
   },
   "source": [
    "**So our dataset contains 10000 rows and 14 columns**"
   ]
  },
  {
   "cell_type": "markdown",
   "id": "peaceful-cedar",
   "metadata": {
    "papermill": {
     "duration": 0.025572,
     "end_time": "2021-09-14T10:08:13.830653",
     "exception": false,
     "start_time": "2021-09-14T10:08:13.805081",
     "status": "completed"
    },
    "tags": []
   },
   "source": [
    "# Exploratory Data Analysis"
   ]
  },
  {
   "cell_type": "code",
   "execution_count": 8,
   "id": "plastic-archives",
   "metadata": {
    "execution": {
     "iopub.execute_input": "2021-09-14T10:08:13.885343Z",
     "iopub.status.busy": "2021-09-14T10:08:13.884743Z",
     "iopub.status.idle": "2021-09-14T10:08:13.913833Z",
     "shell.execute_reply": "2021-09-14T10:08:13.914419Z",
     "shell.execute_reply.started": "2021-09-14T10:05:18.629564Z"
    },
    "papermill": {
     "duration": 0.057982,
     "end_time": "2021-09-14T10:08:13.914609",
     "exception": false,
     "start_time": "2021-09-14T10:08:13.856627",
     "status": "completed"
    },
    "tags": []
   },
   "outputs": [
    {
     "data": {
      "text/html": [
       "<div>\n",
       "<style scoped>\n",
       "    .dataframe tbody tr th:only-of-type {\n",
       "        vertical-align: middle;\n",
       "    }\n",
       "\n",
       "    .dataframe tbody tr th {\n",
       "        vertical-align: top;\n",
       "    }\n",
       "\n",
       "    .dataframe thead th {\n",
       "        text-align: right;\n",
       "    }\n",
       "</style>\n",
       "<table border=\"1\" class=\"dataframe\">\n",
       "  <thead>\n",
       "    <tr style=\"text-align: right;\">\n",
       "      <th></th>\n",
       "      <th>RowNumber</th>\n",
       "      <th>CustomerId</th>\n",
       "      <th>CreditScore</th>\n",
       "      <th>Age</th>\n",
       "      <th>Tenure</th>\n",
       "      <th>Balance</th>\n",
       "      <th>NumOfProducts</th>\n",
       "      <th>HasCrCard</th>\n",
       "      <th>IsActiveMember</th>\n",
       "      <th>EstimatedSalary</th>\n",
       "      <th>Exited</th>\n",
       "    </tr>\n",
       "  </thead>\n",
       "  <tbody>\n",
       "    <tr>\n",
       "      <th>RowNumber</th>\n",
       "      <td>1.000000</td>\n",
       "      <td>0.004202</td>\n",
       "      <td>0.005840</td>\n",
       "      <td>0.000783</td>\n",
       "      <td>-0.006495</td>\n",
       "      <td>-0.009067</td>\n",
       "      <td>0.007246</td>\n",
       "      <td>0.000599</td>\n",
       "      <td>0.012044</td>\n",
       "      <td>-0.005988</td>\n",
       "      <td>-0.016571</td>\n",
       "    </tr>\n",
       "    <tr>\n",
       "      <th>CustomerId</th>\n",
       "      <td>0.004202</td>\n",
       "      <td>1.000000</td>\n",
       "      <td>0.005308</td>\n",
       "      <td>0.009497</td>\n",
       "      <td>-0.014883</td>\n",
       "      <td>-0.012419</td>\n",
       "      <td>0.016972</td>\n",
       "      <td>-0.014025</td>\n",
       "      <td>0.001665</td>\n",
       "      <td>0.015271</td>\n",
       "      <td>-0.006248</td>\n",
       "    </tr>\n",
       "    <tr>\n",
       "      <th>CreditScore</th>\n",
       "      <td>0.005840</td>\n",
       "      <td>0.005308</td>\n",
       "      <td>1.000000</td>\n",
       "      <td>-0.003965</td>\n",
       "      <td>0.000842</td>\n",
       "      <td>0.006268</td>\n",
       "      <td>0.012238</td>\n",
       "      <td>-0.005458</td>\n",
       "      <td>0.025651</td>\n",
       "      <td>-0.001384</td>\n",
       "      <td>-0.027094</td>\n",
       "    </tr>\n",
       "    <tr>\n",
       "      <th>Age</th>\n",
       "      <td>0.000783</td>\n",
       "      <td>0.009497</td>\n",
       "      <td>-0.003965</td>\n",
       "      <td>1.000000</td>\n",
       "      <td>-0.009997</td>\n",
       "      <td>0.028308</td>\n",
       "      <td>-0.030680</td>\n",
       "      <td>-0.011721</td>\n",
       "      <td>0.085472</td>\n",
       "      <td>-0.007201</td>\n",
       "      <td>0.285323</td>\n",
       "    </tr>\n",
       "    <tr>\n",
       "      <th>Tenure</th>\n",
       "      <td>-0.006495</td>\n",
       "      <td>-0.014883</td>\n",
       "      <td>0.000842</td>\n",
       "      <td>-0.009997</td>\n",
       "      <td>1.000000</td>\n",
       "      <td>-0.012254</td>\n",
       "      <td>0.013444</td>\n",
       "      <td>0.022583</td>\n",
       "      <td>-0.028362</td>\n",
       "      <td>0.007784</td>\n",
       "      <td>-0.014001</td>\n",
       "    </tr>\n",
       "    <tr>\n",
       "      <th>Balance</th>\n",
       "      <td>-0.009067</td>\n",
       "      <td>-0.012419</td>\n",
       "      <td>0.006268</td>\n",
       "      <td>0.028308</td>\n",
       "      <td>-0.012254</td>\n",
       "      <td>1.000000</td>\n",
       "      <td>-0.304180</td>\n",
       "      <td>-0.014858</td>\n",
       "      <td>-0.010084</td>\n",
       "      <td>0.012797</td>\n",
       "      <td>0.118533</td>\n",
       "    </tr>\n",
       "    <tr>\n",
       "      <th>NumOfProducts</th>\n",
       "      <td>0.007246</td>\n",
       "      <td>0.016972</td>\n",
       "      <td>0.012238</td>\n",
       "      <td>-0.030680</td>\n",
       "      <td>0.013444</td>\n",
       "      <td>-0.304180</td>\n",
       "      <td>1.000000</td>\n",
       "      <td>0.003183</td>\n",
       "      <td>0.009612</td>\n",
       "      <td>0.014204</td>\n",
       "      <td>-0.047820</td>\n",
       "    </tr>\n",
       "    <tr>\n",
       "      <th>HasCrCard</th>\n",
       "      <td>0.000599</td>\n",
       "      <td>-0.014025</td>\n",
       "      <td>-0.005458</td>\n",
       "      <td>-0.011721</td>\n",
       "      <td>0.022583</td>\n",
       "      <td>-0.014858</td>\n",
       "      <td>0.003183</td>\n",
       "      <td>1.000000</td>\n",
       "      <td>-0.011866</td>\n",
       "      <td>-0.009933</td>\n",
       "      <td>-0.007138</td>\n",
       "    </tr>\n",
       "    <tr>\n",
       "      <th>IsActiveMember</th>\n",
       "      <td>0.012044</td>\n",
       "      <td>0.001665</td>\n",
       "      <td>0.025651</td>\n",
       "      <td>0.085472</td>\n",
       "      <td>-0.028362</td>\n",
       "      <td>-0.010084</td>\n",
       "      <td>0.009612</td>\n",
       "      <td>-0.011866</td>\n",
       "      <td>1.000000</td>\n",
       "      <td>-0.011421</td>\n",
       "      <td>-0.156128</td>\n",
       "    </tr>\n",
       "    <tr>\n",
       "      <th>EstimatedSalary</th>\n",
       "      <td>-0.005988</td>\n",
       "      <td>0.015271</td>\n",
       "      <td>-0.001384</td>\n",
       "      <td>-0.007201</td>\n",
       "      <td>0.007784</td>\n",
       "      <td>0.012797</td>\n",
       "      <td>0.014204</td>\n",
       "      <td>-0.009933</td>\n",
       "      <td>-0.011421</td>\n",
       "      <td>1.000000</td>\n",
       "      <td>0.012097</td>\n",
       "    </tr>\n",
       "    <tr>\n",
       "      <th>Exited</th>\n",
       "      <td>-0.016571</td>\n",
       "      <td>-0.006248</td>\n",
       "      <td>-0.027094</td>\n",
       "      <td>0.285323</td>\n",
       "      <td>-0.014001</td>\n",
       "      <td>0.118533</td>\n",
       "      <td>-0.047820</td>\n",
       "      <td>-0.007138</td>\n",
       "      <td>-0.156128</td>\n",
       "      <td>0.012097</td>\n",
       "      <td>1.000000</td>\n",
       "    </tr>\n",
       "  </tbody>\n",
       "</table>\n",
       "</div>"
      ],
      "text/plain": [
       "                 RowNumber  CustomerId  CreditScore       Age    Tenure  \\\n",
       "RowNumber         1.000000    0.004202     0.005840  0.000783 -0.006495   \n",
       "CustomerId        0.004202    1.000000     0.005308  0.009497 -0.014883   \n",
       "CreditScore       0.005840    0.005308     1.000000 -0.003965  0.000842   \n",
       "Age               0.000783    0.009497    -0.003965  1.000000 -0.009997   \n",
       "Tenure           -0.006495   -0.014883     0.000842 -0.009997  1.000000   \n",
       "Balance          -0.009067   -0.012419     0.006268  0.028308 -0.012254   \n",
       "NumOfProducts     0.007246    0.016972     0.012238 -0.030680  0.013444   \n",
       "HasCrCard         0.000599   -0.014025    -0.005458 -0.011721  0.022583   \n",
       "IsActiveMember    0.012044    0.001665     0.025651  0.085472 -0.028362   \n",
       "EstimatedSalary  -0.005988    0.015271    -0.001384 -0.007201  0.007784   \n",
       "Exited           -0.016571   -0.006248    -0.027094  0.285323 -0.014001   \n",
       "\n",
       "                  Balance  NumOfProducts  HasCrCard  IsActiveMember  \\\n",
       "RowNumber       -0.009067       0.007246   0.000599        0.012044   \n",
       "CustomerId      -0.012419       0.016972  -0.014025        0.001665   \n",
       "CreditScore      0.006268       0.012238  -0.005458        0.025651   \n",
       "Age              0.028308      -0.030680  -0.011721        0.085472   \n",
       "Tenure          -0.012254       0.013444   0.022583       -0.028362   \n",
       "Balance          1.000000      -0.304180  -0.014858       -0.010084   \n",
       "NumOfProducts   -0.304180       1.000000   0.003183        0.009612   \n",
       "HasCrCard       -0.014858       0.003183   1.000000       -0.011866   \n",
       "IsActiveMember  -0.010084       0.009612  -0.011866        1.000000   \n",
       "EstimatedSalary  0.012797       0.014204  -0.009933       -0.011421   \n",
       "Exited           0.118533      -0.047820  -0.007138       -0.156128   \n",
       "\n",
       "                 EstimatedSalary    Exited  \n",
       "RowNumber              -0.005988 -0.016571  \n",
       "CustomerId              0.015271 -0.006248  \n",
       "CreditScore            -0.001384 -0.027094  \n",
       "Age                    -0.007201  0.285323  \n",
       "Tenure                  0.007784 -0.014001  \n",
       "Balance                 0.012797  0.118533  \n",
       "NumOfProducts           0.014204 -0.047820  \n",
       "HasCrCard              -0.009933 -0.007138  \n",
       "IsActiveMember         -0.011421 -0.156128  \n",
       "EstimatedSalary         1.000000  0.012097  \n",
       "Exited                  0.012097  1.000000  "
      ]
     },
     "execution_count": 8,
     "metadata": {},
     "output_type": "execute_result"
    }
   ],
   "source": [
    "dataset.corr()"
   ]
  },
  {
   "cell_type": "markdown",
   "id": "employed-medium",
   "metadata": {
    "papermill": {
     "duration": 0.02669,
     "end_time": "2021-09-14T10:08:13.968017",
     "exception": false,
     "start_time": "2021-09-14T10:08:13.941327",
     "status": "completed"
    },
    "tags": []
   },
   "source": [
    "**HEATMAP**\n",
    "\n",
    "**A heatmap is a graphical representation of data that uses a system of color-coding to represent different values. Heatmaps are used in various forms of analytics but are most commonly used to show user behaviour on specific webpages or webpage templates.**\n"
   ]
  },
  {
   "cell_type": "code",
   "execution_count": 9,
   "id": "healthy-outline",
   "metadata": {
    "execution": {
     "iopub.execute_input": "2021-09-14T10:08:14.024380Z",
     "iopub.status.busy": "2021-09-14T10:08:14.023754Z",
     "iopub.status.idle": "2021-09-14T10:08:14.998857Z",
     "shell.execute_reply": "2021-09-14T10:08:14.998271Z",
     "shell.execute_reply.started": "2021-09-14T10:05:22.559577Z"
    },
    "papermill": {
     "duration": 1.004433,
     "end_time": "2021-09-14T10:08:14.998997",
     "exception": false,
     "start_time": "2021-09-14T10:08:13.994564",
     "status": "completed"
    },
    "tags": []
   },
   "outputs": [
    {
     "data": {
      "text/plain": [
       "<AxesSubplot:>"
      ]
     },
     "execution_count": 9,
     "metadata": {},
     "output_type": "execute_result"
    },
    {
     "data": {
      "image/png": "[encoded data removed]",
      "text/plain": [
       "<Figure size 1152x720 with 2 Axes>"
      ]
     },
     "metadata": {
      "needs_background": "light"
     },
     "output_type": "display_data"
    }
   ],
   "source": [
    "plt.figure(figsize = (16,10))\n",
    "\n",
    "sns.heatmap(dataset.corr(), annot =True)\n"
   ]
  },
  {
   "cell_type": "markdown",
   "id": "touched-chain",
   "metadata": {
    "papermill": {
     "duration": 0.029389,
     "end_time": "2021-09-14T10:08:15.058848",
     "exception": false,
     "start_time": "2021-09-14T10:08:15.029459",
     "status": "completed"
    },
    "tags": []
   },
   "source": [
    "# Encoding categorical data"
   ]
  },
  {
   "cell_type": "code",
   "execution_count": 10,
   "id": "impaired-lawrence",
   "metadata": {
    "execution": {
     "iopub.execute_input": "2021-09-14T10:08:15.125928Z",
     "iopub.status.busy": "2021-09-14T10:08:15.125260Z",
     "iopub.status.idle": "2021-09-14T10:08:15.302664Z",
     "shell.execute_reply": "2021-09-14T10:08:15.301854Z",
     "shell.execute_reply.started": "2021-09-14T10:05:28.019348Z"
    },
    "papermill": {
     "duration": 0.214422,
     "end_time": "2021-09-14T10:08:15.302851",
     "exception": false,
     "start_time": "2021-09-14T10:08:15.088429",
     "status": "completed"
    },
    "tags": []
   },
   "outputs": [
    {
     "name": "stdout",
     "output_type": "stream",
     "text": [
      "(10000, 11)\n"
     ]
    }
   ],
   "source": [
    "from sklearn.preprocessing import LabelEncoder, OneHotEncoder \n",
    "from sklearn.compose import ColumnTransformer\n",
    "labelencoder_X_1 = LabelEncoder()\n",
    "X[:, 1] = labelencoder_X_1.fit_transform(X[:, 1])\n",
    "labelencoder_X_2 = LabelEncoder()\n",
    "X[:, 2] = labelencoder_X_2.fit_transform(X[:, 2])\n",
    "ct = ColumnTransformer([('one_hot_encoder', OneHotEncoder(), [1])], remainder = 'passthrough')\n",
    "X = np.array(ct.fit_transform(X), dtype = np.float)\n",
    "X = X[:, 1:]\n",
    "print(X.shape)"
   ]
  },
  {
   "cell_type": "markdown",
   "id": "determined-subsection",
   "metadata": {
    "papermill": {
     "duration": 0.029693,
     "end_time": "2021-09-14T10:08:15.363094",
     "exception": false,
     "start_time": "2021-09-14T10:08:15.333401",
     "status": "completed"
    },
    "tags": []
   },
   "source": [
    "# Splitting the dataset into the Training set and Test set"
   ]
  },
  {
   "cell_type": "code",
   "execution_count": 11,
   "id": "joint-translator",
   "metadata": {
    "execution": {
     "iopub.execute_input": "2021-09-14T10:08:15.428328Z",
     "iopub.status.busy": "2021-09-14T10:08:15.427568Z",
     "iopub.status.idle": "2021-09-14T10:08:15.486977Z",
     "shell.execute_reply": "2021-09-14T10:08:15.486381Z",
     "shell.execute_reply.started": "2021-09-14T10:05:31.999434Z"
    },
    "papermill": {
     "duration": 0.093963,
     "end_time": "2021-09-14T10:08:15.487115",
     "exception": false,
     "start_time": "2021-09-14T10:08:15.393152",
     "status": "completed"
    },
    "tags": []
   },
   "outputs": [],
   "source": [
    "from sklearn.model_selection import train_test_split\n",
    "X_train, X_test, y_train, y_test = train_test_split(X, y, test_size = 0.2, random_state = 0)"
   ]
  },
  {
   "cell_type": "code",
   "execution_count": 12,
   "id": "medical-bible",
   "metadata": {
    "execution": {
     "iopub.execute_input": "2021-09-14T10:08:15.552216Z",
     "iopub.status.busy": "2021-09-14T10:08:15.551614Z",
     "iopub.status.idle": "2021-09-14T10:08:15.554299Z",
     "shell.execute_reply": "2021-09-14T10:08:15.554857Z",
     "shell.execute_reply.started": "2021-09-14T10:05:34.959652Z"
    },
    "papermill": {
     "duration": 0.037784,
     "end_time": "2021-09-14T10:08:15.555023",
     "exception": false,
     "start_time": "2021-09-14T10:08:15.517239",
     "status": "completed"
    },
    "tags": []
   },
   "outputs": [
    {
     "name": "stdout",
     "output_type": "stream",
     "text": [
      "2000\n",
      "8000\n",
      "2000\n",
      "8000\n"
     ]
    }
   ],
   "source": [
    "print(len(X_test))\n",
    "print(len(X_train))\n",
    "print(len(y_test))\n",
    "print(len(y_train))"
   ]
  },
  {
   "cell_type": "markdown",
   "id": "ethical-calibration",
   "metadata": {
    "papermill": {
     "duration": 0.029987,
     "end_time": "2021-09-14T10:08:15.615299",
     "exception": false,
     "start_time": "2021-09-14T10:08:15.585312",
     "status": "completed"
    },
    "tags": []
   },
   "source": [
    "# Feature Scaling"
   ]
  },
  {
   "cell_type": "code",
   "execution_count": 13,
   "id": "future-fundamental",
   "metadata": {
    "execution": {
     "iopub.execute_input": "2021-09-14T10:08:15.678473Z",
     "iopub.status.busy": "2021-09-14T10:08:15.677862Z",
     "iopub.status.idle": "2021-09-14T10:08:15.685468Z",
     "shell.execute_reply": "2021-09-14T10:08:15.685984Z",
     "shell.execute_reply.started": "2021-09-14T10:05:38.249569Z"
    },
    "papermill": {
     "duration": 0.04092,
     "end_time": "2021-09-14T10:08:15.686173",
     "exception": false,
     "start_time": "2021-09-14T10:08:15.645253",
     "status": "completed"
    },
    "tags": []
   },
   "outputs": [],
   "source": [
    "from sklearn.preprocessing import StandardScaler\n",
    "sc_X = StandardScaler()\n",
    "X_train = sc_X.fit_transform(X_train)\n",
    "X_test = sc_X.transform(X_test)"
   ]
  },
  {
   "cell_type": "markdown",
   "id": "mexican-weather",
   "metadata": {
    "papermill": {
     "duration": 0.032546,
     "end_time": "2021-09-14T10:08:15.750495",
     "exception": false,
     "start_time": "2021-09-14T10:08:15.717949",
     "status": "completed"
    },
    "tags": []
   },
   "source": [
    "# Part 2 - Making of ANN"
   ]
  },
  {
   "cell_type": "code",
   "execution_count": 14,
   "id": "realistic-oxygen",
   "metadata": {
    "execution": {
     "iopub.execute_input": "2021-09-14T10:08:15.815410Z",
     "iopub.status.busy": "2021-09-14T10:08:15.814778Z",
     "iopub.status.idle": "2021-09-14T10:09:40.974447Z",
     "shell.execute_reply": "2021-09-14T10:09:40.973934Z",
     "shell.execute_reply.started": "2021-09-14T10:05:41.439959Z"
    },
    "papermill": {
     "duration": 85.193672,
     "end_time": "2021-09-14T10:09:40.974607",
     "exception": false,
     "start_time": "2021-09-14T10:08:15.780935",
     "status": "completed"
    },
    "tags": []
   },
   "outputs": [
    {
     "name": "stdout",
     "output_type": "stream",
     "text": [
      "Epoch 1/100\n",
      "800/800 [==============================] - 1s 1ms/step - loss: 0.5502 - accuracy: 0.7983\n",
      "Epoch 2/100\n",
      "800/800 [==============================] - 1s 1ms/step - loss: 0.4183 - accuracy: 0.8040\n",
      "Epoch 3/100\n",
      "800/800 [==============================] - 1s 1ms/step - loss: 0.4117 - accuracy: 0.8066\n",
      "Epoch 4/100\n",
      "800/800 [==============================] - 1s 1000us/step - loss: 0.4286 - accuracy: 0.8112\n",
      "Epoch 5/100\n",
      "800/800 [==============================] - 1s 985us/step - loss: 0.4213 - accuracy: 0.8209\n",
      "Epoch 6/100\n",
      "800/800 [==============================] - 1s 992us/step - loss: 0.4225 - accuracy: 0.8254\n",
      "Epoch 7/100\n",
      "800/800 [==============================] - 1s 987us/step - loss: 0.4070 - accuracy: 0.8388\n",
      "Epoch 8/100\n",
      "800/800 [==============================] - 1s 1ms/step - loss: 0.3973 - accuracy: 0.8380\n",
      "Epoch 9/100\n",
      "800/800 [==============================] - 1s 989us/step - loss: 0.4047 - accuracy: 0.8422\n",
      "Epoch 10/100\n",
      "800/800 [==============================] - 1s 981us/step - loss: 0.4132 - accuracy: 0.8358\n",
      "Epoch 11/100\n",
      "800/800 [==============================] - 1s 961us/step - loss: 0.4072 - accuracy: 0.8355\n",
      "Epoch 12/100\n",
      "800/800 [==============================] - 1s 978us/step - loss: 0.4049 - accuracy: 0.8351\n",
      "Epoch 13/100\n",
      "800/800 [==============================] - 1s 969us/step - loss: 0.4166 - accuracy: 0.8320\n",
      "Epoch 14/100\n",
      "800/800 [==============================] - 1s 958us/step - loss: 0.4060 - accuracy: 0.8343\n",
      "Epoch 15/100\n",
      "800/800 [==============================] - 1s 980us/step - loss: 0.4104 - accuracy: 0.8328\n",
      "Epoch 16/100\n",
      "800/800 [==============================] - 1s 984us/step - loss: 0.4016 - accuracy: 0.8330\n",
      "Epoch 17/100\n",
      "800/800 [==============================] - 1s 1ms/step - loss: 0.4095 - accuracy: 0.8372\n",
      "Epoch 18/100\n",
      "800/800 [==============================] - 1s 941us/step - loss: 0.4137 - accuracy: 0.8304\n",
      "Epoch 19/100\n",
      "800/800 [==============================] - 1s 963us/step - loss: 0.3982 - accuracy: 0.8388\n",
      "Epoch 20/100\n",
      "800/800 [==============================] - 1s 941us/step - loss: 0.4022 - accuracy: 0.8354\n",
      "Epoch 21/100\n",
      "800/800 [==============================] - 1s 956us/step - loss: 0.3986 - accuracy: 0.8365\n",
      "Epoch 22/100\n",
      "800/800 [==============================] - 1s 956us/step - loss: 0.4054 - accuracy: 0.8351\n",
      "Epoch 23/100\n",
      "800/800 [==============================] - 1s 959us/step - loss: 0.4020 - accuracy: 0.8293\n",
      "Epoch 24/100\n",
      "800/800 [==============================] - 1s 959us/step - loss: 0.4064 - accuracy: 0.8360\n",
      "Epoch 25/100\n",
      "800/800 [==============================] - 1s 988us/step - loss: 0.3951 - accuracy: 0.8433\n",
      "Epoch 26/100\n",
      "800/800 [==============================] - 1s 962us/step - loss: 0.3961 - accuracy: 0.8399\n",
      "Epoch 27/100\n",
      "800/800 [==============================] - 1s 968us/step - loss: 0.4026 - accuracy: 0.8331\n",
      "Epoch 28/100\n",
      "800/800 [==============================] - 1s 967us/step - loss: 0.3979 - accuracy: 0.8361\n",
      "Epoch 29/100\n",
      "800/800 [==============================] - 1s 953us/step - loss: 0.3926 - accuracy: 0.8424\n",
      "Epoch 30/100\n",
      "800/800 [==============================] - 1s 989us/step - loss: 0.3948 - accuracy: 0.8372\n",
      "Epoch 31/100\n",
      "800/800 [==============================] - 1s 999us/step - loss: 0.3909 - accuracy: 0.8409\n",
      "Epoch 32/100\n",
      "800/800 [==============================] - 1s 973us/step - loss: 0.3927 - accuracy: 0.8449\n",
      "Epoch 33/100\n",
      "800/800 [==============================] - 1s 959us/step - loss: 0.4123 - accuracy: 0.8291\n",
      "Epoch 34/100\n",
      "800/800 [==============================] - 1s 967us/step - loss: 0.3973 - accuracy: 0.8356\n",
      "Epoch 35/100\n",
      "800/800 [==============================] - 1s 934us/step - loss: 0.4054 - accuracy: 0.8321\n",
      "Epoch 36/100\n",
      "800/800 [==============================] - 1s 950us/step - loss: 0.3979 - accuracy: 0.8372\n",
      "Epoch 37/100\n",
      "800/800 [==============================] - 1s 962us/step - loss: 0.4096 - accuracy: 0.8298\n",
      "Epoch 38/100\n",
      "800/800 [==============================] - 1s 976us/step - loss: 0.3951 - accuracy: 0.8397\n",
      "Epoch 39/100\n",
      "800/800 [==============================] - 1s 987us/step - loss: 0.4024 - accuracy: 0.8333\n",
      "Epoch 40/100\n",
      "800/800 [==============================] - 1s 1ms/step - loss: 0.4130 - accuracy: 0.8274\n",
      "Epoch 41/100\n",
      "800/800 [==============================] - 1s 966us/step - loss: 0.4081 - accuracy: 0.8331\n",
      "Epoch 42/100\n",
      "800/800 [==============================] - 1s 944us/step - loss: 0.3940 - accuracy: 0.8357\n",
      "Epoch 43/100\n",
      "800/800 [==============================] - 1s 965us/step - loss: 0.4073 - accuracy: 0.8312\n",
      "Epoch 44/100\n",
      "800/800 [==============================] - 1s 1ms/step - loss: 0.4048 - accuracy: 0.8324\n",
      "Epoch 45/100\n",
      "800/800 [==============================] - 1s 1ms/step - loss: 0.4021 - accuracy: 0.8378\n",
      "Epoch 46/100\n",
      "800/800 [==============================] - 1s 1ms/step - loss: 0.4082 - accuracy: 0.8359\n",
      "Epoch 47/100\n",
      "800/800 [==============================] - 1s 1ms/step - loss: 0.3847 - accuracy: 0.8404\n",
      "Epoch 48/100\n",
      "800/800 [==============================] - 1s 1ms/step - loss: 0.4058 - accuracy: 0.8336\n",
      "Epoch 49/100\n",
      "800/800 [==============================] - 1s 1ms/step - loss: 0.4101 - accuracy: 0.8297\n",
      "Epoch 50/100\n",
      "800/800 [==============================] - 1s 1ms/step - loss: 0.4020 - accuracy: 0.8351\n",
      "Epoch 51/100\n",
      "800/800 [==============================] - 1s 1ms/step - loss: 0.4017 - accuracy: 0.8389\n",
      "Epoch 52/100\n",
      "800/800 [==============================] - 1s 994us/step - loss: 0.4066 - accuracy: 0.8325\n",
      "Epoch 53/100\n",
      "800/800 [==============================] - 1s 983us/step - loss: 0.4071 - accuracy: 0.8278\n",
      "Epoch 54/100\n",
      "800/800 [==============================] - 1s 930us/step - loss: 0.4073 - accuracy: 0.8322\n",
      "Epoch 55/100\n",
      "800/800 [==============================] - 1s 979us/step - loss: 0.3971 - accuracy: 0.8393\n",
      "Epoch 56/100\n",
      "800/800 [==============================] - 1s 979us/step - loss: 0.4057 - accuracy: 0.8327\n",
      "Epoch 57/100\n",
      "800/800 [==============================] - 1s 970us/step - loss: 0.3911 - accuracy: 0.8390\n",
      "Epoch 58/100\n",
      "800/800 [==============================] - 1s 956us/step - loss: 0.4084 - accuracy: 0.8309\n",
      "Epoch 59/100\n",
      "800/800 [==============================] - 1s 967us/step - loss: 0.4020 - accuracy: 0.8346\n",
      "Epoch 60/100\n",
      "800/800 [==============================] - 1s 955us/step - loss: 0.3928 - accuracy: 0.8385\n",
      "Epoch 61/100\n",
      "800/800 [==============================] - 1s 961us/step - loss: 0.3946 - accuracy: 0.8384\n",
      "Epoch 62/100\n",
      "800/800 [==============================] - 1s 968us/step - loss: 0.3934 - accuracy: 0.8396\n",
      "Epoch 63/100\n",
      "800/800 [==============================] - 1s 970us/step - loss: 0.3957 - accuracy: 0.8377\n",
      "Epoch 64/100\n",
      "800/800 [==============================] - 1s 957us/step - loss: 0.4004 - accuracy: 0.8348\n",
      "Epoch 65/100\n",
      "800/800 [==============================] - 1s 952us/step - loss: 0.4137 - accuracy: 0.8288\n",
      "Epoch 66/100\n",
      "800/800 [==============================] - 1s 960us/step - loss: 0.3978 - accuracy: 0.8376\n",
      "Epoch 67/100\n",
      "800/800 [==============================] - 1s 964us/step - loss: 0.3981 - accuracy: 0.8352\n",
      "Epoch 68/100\n",
      "800/800 [==============================] - 1s 964us/step - loss: 0.3966 - accuracy: 0.8385\n",
      "Epoch 69/100\n",
      "800/800 [==============================] - 1s 1ms/step - loss: 0.4010 - accuracy: 0.8328\n",
      "Epoch 70/100\n",
      "800/800 [==============================] - 1s 964us/step - loss: 0.4040 - accuracy: 0.8329\n",
      "Epoch 71/100\n",
      "800/800 [==============================] - 1s 958us/step - loss: 0.3960 - accuracy: 0.8367\n",
      "Epoch 72/100\n",
      "800/800 [==============================] - 1s 980us/step - loss: 0.3929 - accuracy: 0.8394\n",
      "Epoch 73/100\n",
      "800/800 [==============================] - 1s 1ms/step - loss: 0.4026 - accuracy: 0.8326\n",
      "Epoch 74/100\n",
      "800/800 [==============================] - 1s 974us/step - loss: 0.4014 - accuracy: 0.8346\n",
      "Epoch 75/100\n",
      "800/800 [==============================] - 1s 957us/step - loss: 0.4068 - accuracy: 0.8322\n",
      "Epoch 76/100\n",
      "800/800 [==============================] - 1s 953us/step - loss: 0.3963 - accuracy: 0.8374\n",
      "Epoch 77/100\n",
      "800/800 [==============================] - 1s 951us/step - loss: 0.3828 - accuracy: 0.8456\n",
      "Epoch 78/100\n",
      "800/800 [==============================] - 1s 955us/step - loss: 0.3959 - accuracy: 0.8385\n",
      "Epoch 79/100\n",
      "800/800 [==============================] - 1s 966us/step - loss: 0.3969 - accuracy: 0.8361\n",
      "Epoch 80/100\n",
      "800/800 [==============================] - 1s 968us/step - loss: 0.4071 - accuracy: 0.8301\n",
      "Epoch 81/100\n",
      "800/800 [==============================] - 1s 953us/step - loss: 0.3960 - accuracy: 0.8342\n",
      "Epoch 82/100\n",
      "800/800 [==============================] - 1s 981us/step - loss: 0.3900 - accuracy: 0.8385\n",
      "Epoch 83/100\n",
      "800/800 [==============================] - 1s 932us/step - loss: 0.4097 - accuracy: 0.8284\n",
      "Epoch 84/100\n",
      "800/800 [==============================] - 1s 926us/step - loss: 0.4025 - accuracy: 0.8341\n",
      "Epoch 85/100\n",
      "800/800 [==============================] - 1s 953us/step - loss: 0.3946 - accuracy: 0.8383\n",
      "Epoch 86/100\n",
      "800/800 [==============================] - 1s 1ms/step - loss: 0.4021 - accuracy: 0.8316\n",
      "Epoch 87/100\n",
      "800/800 [==============================] - 1s 1ms/step - loss: 0.4092 - accuracy: 0.8319\n",
      "Epoch 88/100\n",
      "800/800 [==============================] - 1s 989us/step - loss: 0.3965 - accuracy: 0.8390\n",
      "Epoch 89/100\n",
      "800/800 [==============================] - 1s 971us/step - loss: 0.4119 - accuracy: 0.8306\n",
      "Epoch 90/100\n",
      "800/800 [==============================] - 1s 957us/step - loss: 0.4014 - accuracy: 0.8320\n",
      "Epoch 91/100\n",
      "800/800 [==============================] - 1s 959us/step - loss: 0.3947 - accuracy: 0.8404\n",
      "Epoch 92/100\n",
      "800/800 [==============================] - 1s 942us/step - loss: 0.4170 - accuracy: 0.8261\n",
      "Epoch 93/100\n",
      "800/800 [==============================] - 1s 940us/step - loss: 0.3919 - accuracy: 0.8394\n",
      "Epoch 94/100\n",
      "800/800 [==============================] - 1s 959us/step - loss: 0.3949 - accuracy: 0.8359\n",
      "Epoch 95/100\n",
      "800/800 [==============================] - 1s 972us/step - loss: 0.3986 - accuracy: 0.8336\n",
      "Epoch 96/100\n",
      "800/800 [==============================] - 1s 951us/step - loss: 0.3939 - accuracy: 0.8365\n",
      "Epoch 97/100\n",
      "800/800 [==============================] - 1s 979us/step - loss: 0.4005 - accuracy: 0.8380\n",
      "Epoch 98/100\n",
      "800/800 [==============================] - 1s 951us/step - loss: 0.4013 - accuracy: 0.8362\n",
      "Epoch 99/100\n",
      "800/800 [==============================] - 1s 936us/step - loss: 0.3898 - accuracy: 0.8379\n",
      "Epoch 100/100\n",
      "800/800 [==============================] - 1s 958us/step - loss: 0.3983 - accuracy: 0.8371\n"
     ]
    },
    {
     "data": {
      "text/plain": [
       "<tensorflow.python.keras.callbacks.History at 0x7fd1146dcb10>"
      ]
     },
     "execution_count": 14,
     "metadata": {},
     "output_type": "execute_result"
    }
   ],
   "source": [
    "# Importing the Keras libraries and packages\n",
    "import keras\n",
    "from keras.models import Sequential\n",
    "from keras.layers import Dense\n",
    "\n",
    "# Initialising the ANN\n",
    "classifier = Sequential()\n",
    "\n",
    "# Adding the input layer and the first hidden layer\n",
    "classifier.add(Dense(activation=\"relu\", units=6, kernel_initializer=\"uniform\", input_dim=11))\n",
    "\n",
    "# Adding the second hidden layer\n",
    "classifier.add(Dense(activation=\"relu\", units=6, kernel_initializer=\"uniform\"))\n",
    "\n",
    "# Adding the output layer\n",
    "classifier.add(Dense(activation=\"sigmoid\", units=1, kernel_initializer=\"uniform\"))\n",
    "\n",
    "# Compiling the ANN\n",
    "classifier.compile(optimizer = 'adam', loss = 'binary_crossentropy', metrics = ['accuracy'])\n",
    "\n",
    "# Fitting the ANN to the Training set\n",
    "classifier.fit(X_train, y_train, batch_size = 10, epochs = 100)\n"
   ]
  },
  {
   "cell_type": "markdown",
   "id": "seasonal-tractor",
   "metadata": {
    "papermill": {
     "duration": 0.553401,
     "end_time": "2021-09-14T10:09:42.113131",
     "exception": false,
     "start_time": "2021-09-14T10:09:41.559730",
     "status": "completed"
    },
    "tags": []
   },
   "source": [
    "# Part 3 - Making the predictions and evaluating the mode"
   ]
  },
  {
   "cell_type": "code",
   "execution_count": 15,
   "id": "resistant-accounting",
   "metadata": {
    "execution": {
     "iopub.execute_input": "2021-09-14T10:09:43.220346Z",
     "iopub.status.busy": "2021-09-14T10:09:43.219725Z",
     "iopub.status.idle": "2021-09-14T10:09:43.368744Z",
     "shell.execute_reply": "2021-09-14T10:09:43.368177Z",
     "shell.execute_reply.started": "2021-09-14T10:07:11.755427Z"
    },
    "papermill": {
     "duration": 0.706466,
     "end_time": "2021-09-14T10:09:43.368891",
     "exception": false,
     "start_time": "2021-09-14T10:09:42.662425",
     "status": "completed"
    },
    "tags": []
   },
   "outputs": [
    {
     "data": {
      "text/plain": [
       "array([[0.20285872],\n",
       "       [0.35527518],\n",
       "       [0.20763358],\n",
       "       ...,\n",
       "       [0.1796928 ],\n",
       "       [0.17848656],\n",
       "       [0.09205502]], dtype=float32)"
      ]
     },
     "execution_count": 15,
     "metadata": {},
     "output_type": "execute_result"
    }
   ],
   "source": [
    "y_pred = classifier.predict(X_test)\n",
    "y_pred"
   ]
  },
  {
   "cell_type": "code",
   "execution_count": 16,
   "id": "broken-dancing",
   "metadata": {
    "execution": {
     "iopub.execute_input": "2021-09-14T10:09:44.483102Z",
     "iopub.status.busy": "2021-09-14T10:09:44.482192Z",
     "iopub.status.idle": "2021-09-14T10:09:44.485488Z",
     "shell.execute_reply": "2021-09-14T10:09:44.486199Z",
     "shell.execute_reply.started": "2021-09-14T10:07:15.559466Z"
    },
    "papermill": {
     "duration": 0.561726,
     "end_time": "2021-09-14T10:09:44.486413",
     "exception": false,
     "start_time": "2021-09-14T10:09:43.924687",
     "status": "completed"
    },
    "tags": []
   },
   "outputs": [
    {
     "name": "stdout",
     "output_type": "stream",
     "text": [
      "[[False]\n",
      " [False]\n",
      " [False]\n",
      " ...\n",
      " [False]\n",
      " [False]\n",
      " [False]]\n"
     ]
    }
   ],
   "source": [
    "y_pred = (y_pred > 0.5)\n",
    "print(y_pred)"
   ]
  },
  {
   "cell_type": "code",
   "execution_count": 17,
   "id": "limited-consensus",
   "metadata": {
    "execution": {
     "iopub.execute_input": "2021-09-14T10:09:45.648714Z",
     "iopub.status.busy": "2021-09-14T10:09:45.647838Z",
     "iopub.status.idle": "2021-09-14T10:09:46.098858Z",
     "shell.execute_reply": "2021-09-14T10:09:46.098091Z",
     "shell.execute_reply.started": "2021-09-14T10:07:29.960655Z"
    },
    "papermill": {
     "duration": 1.056084,
     "end_time": "2021-09-14T10:09:46.099015",
     "exception": false,
     "start_time": "2021-09-14T10:09:45.042931",
     "status": "completed"
    },
    "tags": []
   },
   "outputs": [
    {
     "data": {
      "image/png": "[encoded data removed]",
      "text/plain": [
       "<IPython.core.display.Image object>"
      ]
     },
     "execution_count": 17,
     "metadata": {},
     "output_type": "execute_result"
    }
   ],
   "source": [
    "from tensorflow.keras.utils import plot_model\n",
    "plot_model(classifier, show_shapes = True)"
   ]
  },
  {
   "cell_type": "code",
   "execution_count": 18,
   "id": "heated-paradise",
   "metadata": {
    "execution": {
     "iopub.execute_input": "2021-09-14T10:09:47.222734Z",
     "iopub.status.busy": "2021-09-14T10:09:47.221734Z",
     "iopub.status.idle": "2021-09-14T10:09:47.228998Z",
     "shell.execute_reply": "2021-09-14T10:09:47.229507Z",
     "shell.execute_reply.started": "2021-09-14T10:07:36.099743Z"
    },
    "papermill": {
     "duration": 0.575333,
     "end_time": "2021-09-14T10:09:47.229696",
     "exception": false,
     "start_time": "2021-09-14T10:09:46.654363",
     "status": "completed"
    },
    "tags": []
   },
   "outputs": [
    {
     "name": "stdout",
     "output_type": "stream",
     "text": [
      "Model: \"sequential\"\n",
      "_________________________________________________________________\n",
      "Layer (type)                 Output Shape              Param #   \n",
      "=================================================================\n",
      "dense (Dense)                (None, 6)                 72        \n",
      "_________________________________________________________________\n",
      "dense_1 (Dense)              (None, 6)                 42        \n",
      "_________________________________________________________________\n",
      "dense_2 (Dense)              (None, 1)                 7         \n",
      "=================================================================\n",
      "Total params: 121\n",
      "Trainable params: 121\n",
      "Non-trainable params: 0\n",
      "_________________________________________________________________\n"
     ]
    }
   ],
   "source": [
    "classifier.summary()"
   ]
  },
  {
   "cell_type": "code",
   "execution_count": 19,
   "id": "vanilla-departure",
   "metadata": {
    "execution": {
     "iopub.execute_input": "2021-09-14T10:09:48.347393Z",
     "iopub.status.busy": "2021-09-14T10:09:48.346426Z",
     "iopub.status.idle": "2021-09-14T10:09:48.362969Z",
     "shell.execute_reply": "2021-09-14T10:09:48.362319Z",
     "shell.execute_reply.started": "2021-09-14T10:07:40.546238Z"
    },
    "papermill": {
     "duration": 0.577999,
     "end_time": "2021-09-14T10:09:48.363114",
     "exception": false,
     "start_time": "2021-09-14T10:09:47.785115",
     "status": "completed"
    },
    "tags": []
   },
   "outputs": [
    {
     "data": {
      "text/plain": [
       "0.844"
      ]
     },
     "execution_count": 19,
     "metadata": {},
     "output_type": "execute_result"
    }
   ],
   "source": [
    "from sklearn.metrics import confusion_matrix, accuracy_score\n",
    "cm = confusion_matrix(y_test, y_pred)\n",
    "accuracy_score(y_test,y_pred)"
   ]
  }
 ],
 "metadata": {
  "kernelspec": {
   "display_name": "Python 3",
   "language": "python",
   "name": "python3"
  },
  "language_info": {
   "codemirror_mode": {
    "name": "ipython",
    "version": 3
   },
   "file_extension": ".py",
   "mimetype": "text/x-python",
   "name": "python",
   "nbconvert_exporter": "python",
   "pygments_lexer": "ipython3",
   "version": "3.7.10"
  },
  "papermill": {
   "default_parameters": {},
   "duration": 106.933435,
   "end_time": "2021-09-14T10:09:50.795133",
   "environment_variables": {},
   "exception": null,
   "input_path": "__notebook__.ipynb",
   "output_path": "__notebook__.ipynb",
   "parameters": {},
   "start_time": "2021-09-14T10:08:03.861698",
   "version": "2.3.3"
  }
 },
 "nbformat": 4,
 "nbformat_minor": 5
}
